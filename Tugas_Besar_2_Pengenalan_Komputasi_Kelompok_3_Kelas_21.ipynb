{
  "nbformat": 4,
  "nbformat_minor": 0,
  "metadata": {
    "colab": {
      "provenance": []
    },
    "kernelspec": {
      "name": "python3",
      "display_name": "Python 3"
    },
    "language_info": {
      "name": "python"
    }
  },
  "cells": [
    {
      "cell_type": "markdown",
      "source": [
        "## IMPORT DAN PEMBACAAN DATA"
      ],
      "metadata": {
        "id": "_BWSy90nL-DD"
      }
    },
    {
      "cell_type": "code",
      "source": [
        "# Mengimport dan membaca dataset\n",
        "import pandas as pd\n",
        "import matplotlib .pyplot as plt\n",
        "\n",
        "df = pd.read_csv('XboxOne_GameSales.csv', encoding='latin-1')\n",
        "df"
      ],
      "metadata": {
        "colab": {
          "base_uri": "https://localhost:8080/",
          "height": 424
        },
        "id": "21zQNbrYLF2u",
        "outputId": "2af21f7e-9803-4974-abce-1ebc6190ce27"
      },
      "execution_count": null,
      "outputs": [
        {
          "output_type": "execute_result",
          "data": {
            "text/plain": [
              "     Pos                       Game    Year             Genre  \\\n",
              "0      1         Grand Theft Auto V  2014.0            Action   \n",
              "1      2  Call of Duty: Black Ops 3  2015.0           Shooter   \n",
              "2      3         Call of Duty: WWII  2017.0           Shooter   \n",
              "3      4      Red Dead Redemption 2  2018.0  Action-Adventure   \n",
              "4      5                  MineCraft  2014.0              Misc   \n",
              "..   ...                        ...     ...               ...   \n",
              "608  609                  Biomutant  2018.0            Action   \n",
              "609  610                  Biomutant  2019.0            Action   \n",
              "610  611                    de Blob  2017.0          Platform   \n",
              "611  612    Outcast: Second Contact  2017.0         Adventure   \n",
              "612  613                  Code Vein  2019.0            Action   \n",
              "\n",
              "                      Publisher  North America  Europe  Japan  Rest of World  \\\n",
              "0                Rockstar Games           4.70    3.25   0.01           0.76   \n",
              "1                    Activision           4.63    2.04   0.02           0.68   \n",
              "2                    Activision           3.75    1.91   0.00           0.57   \n",
              "3                Rockstar Games           3.76    1.47   0.00           0.54   \n",
              "4             Microsoft Studios           3.23    1.71   0.00           0.49   \n",
              "..                          ...            ...     ...    ...            ...   \n",
              "608                  THQ Nordic           0.00    0.00   0.00           0.00   \n",
              "609                  THQ Nordic           0.00    0.00   0.00           0.00   \n",
              "610                  THQ Nordic           0.00    0.00   0.00           0.00   \n",
              "611          Bigben Interactive           0.00    0.00   0.00           0.00   \n",
              "612  Bandai Namco Entertainment           0.00    0.00   0.00           0.00   \n",
              "\n",
              "     Global  \n",
              "0      8.72  \n",
              "1      7.37  \n",
              "2      6.23  \n",
              "3      5.77  \n",
              "4      5.43  \n",
              "..      ...  \n",
              "608    0.00  \n",
              "609    0.00  \n",
              "610    0.00  \n",
              "611    0.00  \n",
              "612    0.00  \n",
              "\n",
              "[613 rows x 10 columns]"
            ],
            "text/html": [
              "\n",
              "  <div id=\"df-956b0fa5-5aca-46c5-be7f-b8d7ec2b08c2\">\n",
              "    <div class=\"colab-df-container\">\n",
              "      <div>\n",
              "<style scoped>\n",
              "    .dataframe tbody tr th:only-of-type {\n",
              "        vertical-align: middle;\n",
              "    }\n",
              "\n",
              "    .dataframe tbody tr th {\n",
              "        vertical-align: top;\n",
              "    }\n",
              "\n",
              "    .dataframe thead th {\n",
              "        text-align: right;\n",
              "    }\n",
              "</style>\n",
              "<table border=\"1\" class=\"dataframe\">\n",
              "  <thead>\n",
              "    <tr style=\"text-align: right;\">\n",
              "      <th></th>\n",
              "      <th>Pos</th>\n",
              "      <th>Game</th>\n",
              "      <th>Year</th>\n",
              "      <th>Genre</th>\n",
              "      <th>Publisher</th>\n",
              "      <th>North America</th>\n",
              "      <th>Europe</th>\n",
              "      <th>Japan</th>\n",
              "      <th>Rest of World</th>\n",
              "      <th>Global</th>\n",
              "    </tr>\n",
              "  </thead>\n",
              "  <tbody>\n",
              "    <tr>\n",
              "      <th>0</th>\n",
              "      <td>1</td>\n",
              "      <td>Grand Theft Auto V</td>\n",
              "      <td>2014.0</td>\n",
              "      <td>Action</td>\n",
              "      <td>Rockstar Games</td>\n",
              "      <td>4.70</td>\n",
              "      <td>3.25</td>\n",
              "      <td>0.01</td>\n",
              "      <td>0.76</td>\n",
              "      <td>8.72</td>\n",
              "    </tr>\n",
              "    <tr>\n",
              "      <th>1</th>\n",
              "      <td>2</td>\n",
              "      <td>Call of Duty: Black Ops 3</td>\n",
              "      <td>2015.0</td>\n",
              "      <td>Shooter</td>\n",
              "      <td>Activision</td>\n",
              "      <td>4.63</td>\n",
              "      <td>2.04</td>\n",
              "      <td>0.02</td>\n",
              "      <td>0.68</td>\n",
              "      <td>7.37</td>\n",
              "    </tr>\n",
              "    <tr>\n",
              "      <th>2</th>\n",
              "      <td>3</td>\n",
              "      <td>Call of Duty: WWII</td>\n",
              "      <td>2017.0</td>\n",
              "      <td>Shooter</td>\n",
              "      <td>Activision</td>\n",
              "      <td>3.75</td>\n",
              "      <td>1.91</td>\n",
              "      <td>0.00</td>\n",
              "      <td>0.57</td>\n",
              "      <td>6.23</td>\n",
              "    </tr>\n",
              "    <tr>\n",
              "      <th>3</th>\n",
              "      <td>4</td>\n",
              "      <td>Red Dead Redemption 2</td>\n",
              "      <td>2018.0</td>\n",
              "      <td>Action-Adventure</td>\n",
              "      <td>Rockstar Games</td>\n",
              "      <td>3.76</td>\n",
              "      <td>1.47</td>\n",
              "      <td>0.00</td>\n",
              "      <td>0.54</td>\n",
              "      <td>5.77</td>\n",
              "    </tr>\n",
              "    <tr>\n",
              "      <th>4</th>\n",
              "      <td>5</td>\n",
              "      <td>MineCraft</td>\n",
              "      <td>2014.0</td>\n",
              "      <td>Misc</td>\n",
              "      <td>Microsoft Studios</td>\n",
              "      <td>3.23</td>\n",
              "      <td>1.71</td>\n",
              "      <td>0.00</td>\n",
              "      <td>0.49</td>\n",
              "      <td>5.43</td>\n",
              "    </tr>\n",
              "    <tr>\n",
              "      <th>...</th>\n",
              "      <td>...</td>\n",
              "      <td>...</td>\n",
              "      <td>...</td>\n",
              "      <td>...</td>\n",
              "      <td>...</td>\n",
              "      <td>...</td>\n",
              "      <td>...</td>\n",
              "      <td>...</td>\n",
              "      <td>...</td>\n",
              "      <td>...</td>\n",
              "    </tr>\n",
              "    <tr>\n",
              "      <th>608</th>\n",
              "      <td>609</td>\n",
              "      <td>Biomutant</td>\n",
              "      <td>2018.0</td>\n",
              "      <td>Action</td>\n",
              "      <td>THQ Nordic</td>\n",
              "      <td>0.00</td>\n",
              "      <td>0.00</td>\n",
              "      <td>0.00</td>\n",
              "      <td>0.00</td>\n",
              "      <td>0.00</td>\n",
              "    </tr>\n",
              "    <tr>\n",
              "      <th>609</th>\n",
              "      <td>610</td>\n",
              "      <td>Biomutant</td>\n",
              "      <td>2019.0</td>\n",
              "      <td>Action</td>\n",
              "      <td>THQ Nordic</td>\n",
              "      <td>0.00</td>\n",
              "      <td>0.00</td>\n",
              "      <td>0.00</td>\n",
              "      <td>0.00</td>\n",
              "      <td>0.00</td>\n",
              "    </tr>\n",
              "    <tr>\n",
              "      <th>610</th>\n",
              "      <td>611</td>\n",
              "      <td>de Blob</td>\n",
              "      <td>2017.0</td>\n",
              "      <td>Platform</td>\n",
              "      <td>THQ Nordic</td>\n",
              "      <td>0.00</td>\n",
              "      <td>0.00</td>\n",
              "      <td>0.00</td>\n",
              "      <td>0.00</td>\n",
              "      <td>0.00</td>\n",
              "    </tr>\n",
              "    <tr>\n",
              "      <th>611</th>\n",
              "      <td>612</td>\n",
              "      <td>Outcast: Second Contact</td>\n",
              "      <td>2017.0</td>\n",
              "      <td>Adventure</td>\n",
              "      <td>Bigben Interactive</td>\n",
              "      <td>0.00</td>\n",
              "      <td>0.00</td>\n",
              "      <td>0.00</td>\n",
              "      <td>0.00</td>\n",
              "      <td>0.00</td>\n",
              "    </tr>\n",
              "    <tr>\n",
              "      <th>612</th>\n",
              "      <td>613</td>\n",
              "      <td>Code Vein</td>\n",
              "      <td>2019.0</td>\n",
              "      <td>Action</td>\n",
              "      <td>Bandai Namco Entertainment</td>\n",
              "      <td>0.00</td>\n",
              "      <td>0.00</td>\n",
              "      <td>0.00</td>\n",
              "      <td>0.00</td>\n",
              "      <td>0.00</td>\n",
              "    </tr>\n",
              "  </tbody>\n",
              "</table>\n",
              "<p>613 rows × 10 columns</p>\n",
              "</div>\n",
              "      <button class=\"colab-df-convert\" onclick=\"convertToInteractive('df-956b0fa5-5aca-46c5-be7f-b8d7ec2b08c2')\"\n",
              "              title=\"Convert this dataframe to an interactive table.\"\n",
              "              style=\"display:none;\">\n",
              "        \n",
              "  <svg xmlns=\"http://www.w3.org/2000/svg\" height=\"24px\"viewBox=\"0 0 24 24\"\n",
              "       width=\"24px\">\n",
              "    <path d=\"M0 0h24v24H0V0z\" fill=\"none\"/>\n",
              "    <path d=\"M18.56 5.44l.94 2.06.94-2.06 2.06-.94-2.06-.94-.94-2.06-.94 2.06-2.06.94zm-11 1L8.5 8.5l.94-2.06 2.06-.94-2.06-.94L8.5 2.5l-.94 2.06-2.06.94zm10 10l.94 2.06.94-2.06 2.06-.94-2.06-.94-.94-2.06-.94 2.06-2.06.94z\"/><path d=\"M17.41 7.96l-1.37-1.37c-.4-.4-.92-.59-1.43-.59-.52 0-1.04.2-1.43.59L10.3 9.45l-7.72 7.72c-.78.78-.78 2.05 0 2.83L4 21.41c.39.39.9.59 1.41.59.51 0 1.02-.2 1.41-.59l7.78-7.78 2.81-2.81c.8-.78.8-2.07 0-2.86zM5.41 20L4 18.59l7.72-7.72 1.47 1.35L5.41 20z\"/>\n",
              "  </svg>\n",
              "      </button>\n",
              "      \n",
              "  <style>\n",
              "    .colab-df-container {\n",
              "      display:flex;\n",
              "      flex-wrap:wrap;\n",
              "      gap: 12px;\n",
              "    }\n",
              "\n",
              "    .colab-df-convert {\n",
              "      background-color: #E8F0FE;\n",
              "      border: none;\n",
              "      border-radius: 50%;\n",
              "      cursor: pointer;\n",
              "      display: none;\n",
              "      fill: #1967D2;\n",
              "      height: 32px;\n",
              "      padding: 0 0 0 0;\n",
              "      width: 32px;\n",
              "    }\n",
              "\n",
              "    .colab-df-convert:hover {\n",
              "      background-color: #E2EBFA;\n",
              "      box-shadow: 0px 1px 2px rgba(60, 64, 67, 0.3), 0px 1px 3px 1px rgba(60, 64, 67, 0.15);\n",
              "      fill: #174EA6;\n",
              "    }\n",
              "\n",
              "    [theme=dark] .colab-df-convert {\n",
              "      background-color: #3B4455;\n",
              "      fill: #D2E3FC;\n",
              "    }\n",
              "\n",
              "    [theme=dark] .colab-df-convert:hover {\n",
              "      background-color: #434B5C;\n",
              "      box-shadow: 0px 1px 3px 1px rgba(0, 0, 0, 0.15);\n",
              "      filter: drop-shadow(0px 1px 2px rgba(0, 0, 0, 0.3));\n",
              "      fill: #FFFFFF;\n",
              "    }\n",
              "  </style>\n",
              "\n",
              "      <script>\n",
              "        const buttonEl =\n",
              "          document.querySelector('#df-956b0fa5-5aca-46c5-be7f-b8d7ec2b08c2 button.colab-df-convert');\n",
              "        buttonEl.style.display =\n",
              "          google.colab.kernel.accessAllowed ? 'block' : 'none';\n",
              "\n",
              "        async function convertToInteractive(key) {\n",
              "          const element = document.querySelector('#df-956b0fa5-5aca-46c5-be7f-b8d7ec2b08c2');\n",
              "          const dataTable =\n",
              "            await google.colab.kernel.invokeFunction('convertToInteractive',\n",
              "                                                     [key], {});\n",
              "          if (!dataTable) return;\n",
              "\n",
              "          const docLinkHtml = 'Like what you see? Visit the ' +\n",
              "            '<a target=\"_blank\" href=https://colab.research.google.com/notebooks/data_table.ipynb>data table notebook</a>'\n",
              "            + ' to learn more about interactive tables.';\n",
              "          element.innerHTML = '';\n",
              "          dataTable['output_type'] = 'display_data';\n",
              "          await google.colab.output.renderOutput(dataTable, element);\n",
              "          const docLink = document.createElement('div');\n",
              "          docLink.innerHTML = docLinkHtml;\n",
              "          element.appendChild(docLink);\n",
              "        }\n",
              "      </script>\n",
              "    </div>\n",
              "  </div>\n",
              "  "
            ]
          },
          "metadata": {},
          "execution_count": 9
        }
      ]
    },
    {
      "cell_type": "markdown",
      "source": [
        "## MENCARI DATA YANG KOTOR"
      ],
      "metadata": {
        "id": "hVdF0KS6MSQo"
      }
    },
    {
      "cell_type": "code",
      "source": [
        "# Mencari jumlah data yang kotor (kosong/hilang)\n",
        "df.isnull().sum()"
      ],
      "metadata": {
        "colab": {
          "base_uri": "https://localhost:8080/"
        },
        "id": "MrCnuYQqL9D7",
        "outputId": "5e2bd840-2008-475f-f2ae-3732258a1c49"
      },
      "execution_count": null,
      "outputs": [
        {
          "output_type": "execute_result",
          "data": {
            "text/plain": [
              "Pos                0\n",
              "Game               0\n",
              "Year             108\n",
              "Genre              0\n",
              "Publisher        108\n",
              "North America      0\n",
              "Europe             0\n",
              "Japan              0\n",
              "Rest of World      0\n",
              "Global             0\n",
              "dtype: int64"
            ]
          },
          "metadata": {},
          "execution_count": 10
        }
      ]
    },
    {
      "cell_type": "code",
      "source": [
        "# Menghitung persentase data yang kotor (kosong/hilang)\n",
        "round(df.isnull().sum()/len(df.index), 2)*100"
      ],
      "metadata": {
        "colab": {
          "base_uri": "https://localhost:8080/"
        },
        "id": "MjpnL3uUMFKh",
        "outputId": "3ba03606-084e-44be-a834-7c3751f70d7e"
      },
      "execution_count": null,
      "outputs": [
        {
          "output_type": "execute_result",
          "data": {
            "text/plain": [
              "Pos               0.0\n",
              "Game              0.0\n",
              "Year             18.0\n",
              "Genre             0.0\n",
              "Publisher        18.0\n",
              "North America     0.0\n",
              "Europe            0.0\n",
              "Japan             0.0\n",
              "Rest of World     0.0\n",
              "Global            0.0\n",
              "dtype: float64"
            ]
          },
          "metadata": {},
          "execution_count": 11
        }
      ]
    },
    {
      "cell_type": "markdown",
      "source": [
        "## DATA CLEANSING"
      ],
      "metadata": {
        "id": "ex6FIUL0MaHO"
      }
    },
    {
      "cell_type": "code",
      "execution_count": null,
      "metadata": {
        "id": "2vkODWqLWjzQ",
        "colab": {
          "base_uri": "https://localhost:8080/",
          "height": 424
        },
        "outputId": "167b0b81-1859-4fba-8c2b-3a31d07d5aa6"
      },
      "outputs": [
        {
          "output_type": "execute_result",
          "data": {
            "text/plain": [
              "     Pos                       Game    Year             Genre  \\\n",
              "0      1         Grand Theft Auto V  2014.0            Action   \n",
              "1      2  Call of Duty: Black Ops 3  2015.0           Shooter   \n",
              "2      3         Call of Duty: WWII  2017.0           Shooter   \n",
              "3      4      Red Dead Redemption 2  2018.0  Action-Adventure   \n",
              "4      5                  MineCraft  2014.0              Misc   \n",
              "..   ...                        ...     ...               ...   \n",
              "608  609                  Biomutant  2018.0            Action   \n",
              "609  610                  Biomutant  2019.0            Action   \n",
              "610  611                    de Blob  2017.0          Platform   \n",
              "611  612    Outcast: Second Contact  2017.0         Adventure   \n",
              "612  613                  Code Vein  2019.0            Action   \n",
              "\n",
              "                      Publisher  North America  Europe  Japan  Rest of World  \\\n",
              "0                Rockstar Games           4.70    3.25   0.01           0.76   \n",
              "1                    Activision           4.63    2.04   0.02           0.68   \n",
              "2                    Activision           3.75    1.91   0.00           0.57   \n",
              "3                Rockstar Games           3.76    1.47   0.00           0.54   \n",
              "4             Microsoft Studios           3.23    1.71   0.00           0.49   \n",
              "..                          ...            ...     ...    ...            ...   \n",
              "608                  THQ Nordic           0.00    0.00   0.00           0.00   \n",
              "609                  THQ Nordic           0.00    0.00   0.00           0.00   \n",
              "610                  THQ Nordic           0.00    0.00   0.00           0.00   \n",
              "611          Bigben Interactive           0.00    0.00   0.00           0.00   \n",
              "612  Bandai Namco Entertainment           0.00    0.00   0.00           0.00   \n",
              "\n",
              "     Global  \n",
              "0      8.72  \n",
              "1      7.37  \n",
              "2      6.23  \n",
              "3      5.77  \n",
              "4      5.43  \n",
              "..      ...  \n",
              "608    0.00  \n",
              "609    0.00  \n",
              "610    0.00  \n",
              "611    0.00  \n",
              "612    0.00  \n",
              "\n",
              "[505 rows x 10 columns]"
            ],
            "text/html": [
              "\n",
              "  <div id=\"df-5233cb90-4994-4eac-b109-8e169099e041\">\n",
              "    <div class=\"colab-df-container\">\n",
              "      <div>\n",
              "<style scoped>\n",
              "    .dataframe tbody tr th:only-of-type {\n",
              "        vertical-align: middle;\n",
              "    }\n",
              "\n",
              "    .dataframe tbody tr th {\n",
              "        vertical-align: top;\n",
              "    }\n",
              "\n",
              "    .dataframe thead th {\n",
              "        text-align: right;\n",
              "    }\n",
              "</style>\n",
              "<table border=\"1\" class=\"dataframe\">\n",
              "  <thead>\n",
              "    <tr style=\"text-align: right;\">\n",
              "      <th></th>\n",
              "      <th>Pos</th>\n",
              "      <th>Game</th>\n",
              "      <th>Year</th>\n",
              "      <th>Genre</th>\n",
              "      <th>Publisher</th>\n",
              "      <th>North America</th>\n",
              "      <th>Europe</th>\n",
              "      <th>Japan</th>\n",
              "      <th>Rest of World</th>\n",
              "      <th>Global</th>\n",
              "    </tr>\n",
              "  </thead>\n",
              "  <tbody>\n",
              "    <tr>\n",
              "      <th>0</th>\n",
              "      <td>1</td>\n",
              "      <td>Grand Theft Auto V</td>\n",
              "      <td>2014.0</td>\n",
              "      <td>Action</td>\n",
              "      <td>Rockstar Games</td>\n",
              "      <td>4.70</td>\n",
              "      <td>3.25</td>\n",
              "      <td>0.01</td>\n",
              "      <td>0.76</td>\n",
              "      <td>8.72</td>\n",
              "    </tr>\n",
              "    <tr>\n",
              "      <th>1</th>\n",
              "      <td>2</td>\n",
              "      <td>Call of Duty: Black Ops 3</td>\n",
              "      <td>2015.0</td>\n",
              "      <td>Shooter</td>\n",
              "      <td>Activision</td>\n",
              "      <td>4.63</td>\n",
              "      <td>2.04</td>\n",
              "      <td>0.02</td>\n",
              "      <td>0.68</td>\n",
              "      <td>7.37</td>\n",
              "    </tr>\n",
              "    <tr>\n",
              "      <th>2</th>\n",
              "      <td>3</td>\n",
              "      <td>Call of Duty: WWII</td>\n",
              "      <td>2017.0</td>\n",
              "      <td>Shooter</td>\n",
              "      <td>Activision</td>\n",
              "      <td>3.75</td>\n",
              "      <td>1.91</td>\n",
              "      <td>0.00</td>\n",
              "      <td>0.57</td>\n",
              "      <td>6.23</td>\n",
              "    </tr>\n",
              "    <tr>\n",
              "      <th>3</th>\n",
              "      <td>4</td>\n",
              "      <td>Red Dead Redemption 2</td>\n",
              "      <td>2018.0</td>\n",
              "      <td>Action-Adventure</td>\n",
              "      <td>Rockstar Games</td>\n",
              "      <td>3.76</td>\n",
              "      <td>1.47</td>\n",
              "      <td>0.00</td>\n",
              "      <td>0.54</td>\n",
              "      <td>5.77</td>\n",
              "    </tr>\n",
              "    <tr>\n",
              "      <th>4</th>\n",
              "      <td>5</td>\n",
              "      <td>MineCraft</td>\n",
              "      <td>2014.0</td>\n",
              "      <td>Misc</td>\n",
              "      <td>Microsoft Studios</td>\n",
              "      <td>3.23</td>\n",
              "      <td>1.71</td>\n",
              "      <td>0.00</td>\n",
              "      <td>0.49</td>\n",
              "      <td>5.43</td>\n",
              "    </tr>\n",
              "    <tr>\n",
              "      <th>...</th>\n",
              "      <td>...</td>\n",
              "      <td>...</td>\n",
              "      <td>...</td>\n",
              "      <td>...</td>\n",
              "      <td>...</td>\n",
              "      <td>...</td>\n",
              "      <td>...</td>\n",
              "      <td>...</td>\n",
              "      <td>...</td>\n",
              "      <td>...</td>\n",
              "    </tr>\n",
              "    <tr>\n",
              "      <th>608</th>\n",
              "      <td>609</td>\n",
              "      <td>Biomutant</td>\n",
              "      <td>2018.0</td>\n",
              "      <td>Action</td>\n",
              "      <td>THQ Nordic</td>\n",
              "      <td>0.00</td>\n",
              "      <td>0.00</td>\n",
              "      <td>0.00</td>\n",
              "      <td>0.00</td>\n",
              "      <td>0.00</td>\n",
              "    </tr>\n",
              "    <tr>\n",
              "      <th>609</th>\n",
              "      <td>610</td>\n",
              "      <td>Biomutant</td>\n",
              "      <td>2019.0</td>\n",
              "      <td>Action</td>\n",
              "      <td>THQ Nordic</td>\n",
              "      <td>0.00</td>\n",
              "      <td>0.00</td>\n",
              "      <td>0.00</td>\n",
              "      <td>0.00</td>\n",
              "      <td>0.00</td>\n",
              "    </tr>\n",
              "    <tr>\n",
              "      <th>610</th>\n",
              "      <td>611</td>\n",
              "      <td>de Blob</td>\n",
              "      <td>2017.0</td>\n",
              "      <td>Platform</td>\n",
              "      <td>THQ Nordic</td>\n",
              "      <td>0.00</td>\n",
              "      <td>0.00</td>\n",
              "      <td>0.00</td>\n",
              "      <td>0.00</td>\n",
              "      <td>0.00</td>\n",
              "    </tr>\n",
              "    <tr>\n",
              "      <th>611</th>\n",
              "      <td>612</td>\n",
              "      <td>Outcast: Second Contact</td>\n",
              "      <td>2017.0</td>\n",
              "      <td>Adventure</td>\n",
              "      <td>Bigben Interactive</td>\n",
              "      <td>0.00</td>\n",
              "      <td>0.00</td>\n",
              "      <td>0.00</td>\n",
              "      <td>0.00</td>\n",
              "      <td>0.00</td>\n",
              "    </tr>\n",
              "    <tr>\n",
              "      <th>612</th>\n",
              "      <td>613</td>\n",
              "      <td>Code Vein</td>\n",
              "      <td>2019.0</td>\n",
              "      <td>Action</td>\n",
              "      <td>Bandai Namco Entertainment</td>\n",
              "      <td>0.00</td>\n",
              "      <td>0.00</td>\n",
              "      <td>0.00</td>\n",
              "      <td>0.00</td>\n",
              "      <td>0.00</td>\n",
              "    </tr>\n",
              "  </tbody>\n",
              "</table>\n",
              "<p>505 rows × 10 columns</p>\n",
              "</div>\n",
              "      <button class=\"colab-df-convert\" onclick=\"convertToInteractive('df-5233cb90-4994-4eac-b109-8e169099e041')\"\n",
              "              title=\"Convert this dataframe to an interactive table.\"\n",
              "              style=\"display:none;\">\n",
              "        \n",
              "  <svg xmlns=\"http://www.w3.org/2000/svg\" height=\"24px\"viewBox=\"0 0 24 24\"\n",
              "       width=\"24px\">\n",
              "    <path d=\"M0 0h24v24H0V0z\" fill=\"none\"/>\n",
              "    <path d=\"M18.56 5.44l.94 2.06.94-2.06 2.06-.94-2.06-.94-.94-2.06-.94 2.06-2.06.94zm-11 1L8.5 8.5l.94-2.06 2.06-.94-2.06-.94L8.5 2.5l-.94 2.06-2.06.94zm10 10l.94 2.06.94-2.06 2.06-.94-2.06-.94-.94-2.06-.94 2.06-2.06.94z\"/><path d=\"M17.41 7.96l-1.37-1.37c-.4-.4-.92-.59-1.43-.59-.52 0-1.04.2-1.43.59L10.3 9.45l-7.72 7.72c-.78.78-.78 2.05 0 2.83L4 21.41c.39.39.9.59 1.41.59.51 0 1.02-.2 1.41-.59l7.78-7.78 2.81-2.81c.8-.78.8-2.07 0-2.86zM5.41 20L4 18.59l7.72-7.72 1.47 1.35L5.41 20z\"/>\n",
              "  </svg>\n",
              "      </button>\n",
              "      \n",
              "  <style>\n",
              "    .colab-df-container {\n",
              "      display:flex;\n",
              "      flex-wrap:wrap;\n",
              "      gap: 12px;\n",
              "    }\n",
              "\n",
              "    .colab-df-convert {\n",
              "      background-color: #E8F0FE;\n",
              "      border: none;\n",
              "      border-radius: 50%;\n",
              "      cursor: pointer;\n",
              "      display: none;\n",
              "      fill: #1967D2;\n",
              "      height: 32px;\n",
              "      padding: 0 0 0 0;\n",
              "      width: 32px;\n",
              "    }\n",
              "\n",
              "    .colab-df-convert:hover {\n",
              "      background-color: #E2EBFA;\n",
              "      box-shadow: 0px 1px 2px rgba(60, 64, 67, 0.3), 0px 1px 3px 1px rgba(60, 64, 67, 0.15);\n",
              "      fill: #174EA6;\n",
              "    }\n",
              "\n",
              "    [theme=dark] .colab-df-convert {\n",
              "      background-color: #3B4455;\n",
              "      fill: #D2E3FC;\n",
              "    }\n",
              "\n",
              "    [theme=dark] .colab-df-convert:hover {\n",
              "      background-color: #434B5C;\n",
              "      box-shadow: 0px 1px 3px 1px rgba(0, 0, 0, 0.15);\n",
              "      filter: drop-shadow(0px 1px 2px rgba(0, 0, 0, 0.3));\n",
              "      fill: #FFFFFF;\n",
              "    }\n",
              "  </style>\n",
              "\n",
              "      <script>\n",
              "        const buttonEl =\n",
              "          document.querySelector('#df-5233cb90-4994-4eac-b109-8e169099e041 button.colab-df-convert');\n",
              "        buttonEl.style.display =\n",
              "          google.colab.kernel.accessAllowed ? 'block' : 'none';\n",
              "\n",
              "        async function convertToInteractive(key) {\n",
              "          const element = document.querySelector('#df-5233cb90-4994-4eac-b109-8e169099e041');\n",
              "          const dataTable =\n",
              "            await google.colab.kernel.invokeFunction('convertToInteractive',\n",
              "                                                     [key], {});\n",
              "          if (!dataTable) return;\n",
              "\n",
              "          const docLinkHtml = 'Like what you see? Visit the ' +\n",
              "            '<a target=\"_blank\" href=https://colab.research.google.com/notebooks/data_table.ipynb>data table notebook</a>'\n",
              "            + ' to learn more about interactive tables.';\n",
              "          element.innerHTML = '';\n",
              "          dataTable['output_type'] = 'display_data';\n",
              "          await google.colab.output.renderOutput(dataTable, element);\n",
              "          const docLink = document.createElement('div');\n",
              "          docLink.innerHTML = docLinkHtml;\n",
              "          element.appendChild(docLink);\n",
              "        }\n",
              "      </script>\n",
              "    </div>\n",
              "  </div>\n",
              "  "
            ]
          },
          "metadata": {},
          "execution_count": 5
        }
      ],
      "source": [
        "# Mengimport, membaca, sekaligus membersihkan dataset\n",
        "import pandas as pd\n",
        "import matplotlib.pyplot as plt\n",
        "\n",
        "df = pd.read_csv('XboxOne_GameSales.csv', encoding='latin-1').dropna()\n",
        "df"
      ]
    },
    {
      "cell_type": "markdown",
      "source": [
        "## TIPE DATA"
      ],
      "metadata": {
        "id": "g8GPQ4c5Mei-"
      }
    },
    {
      "cell_type": "code",
      "source": [
        "# Mencari tipe data tiap atribut\n",
        "df.dtypes"
      ],
      "metadata": {
        "id": "XRUmIsFasdFn",
        "outputId": "49f3bbac-b065-4749-b4f1-7ec879536d70",
        "colab": {
          "base_uri": "https://localhost:8080/"
        }
      },
      "execution_count": null,
      "outputs": [
        {
          "output_type": "execute_result",
          "data": {
            "text/plain": [
              "Pos                int64\n",
              "Game              object\n",
              "Year             float64\n",
              "Genre             object\n",
              "Publisher         object\n",
              "North America    float64\n",
              "Europe           float64\n",
              "Japan            float64\n",
              "Rest of World    float64\n",
              "Global           float64\n",
              "dtype: object"
            ]
          },
          "metadata": {},
          "execution_count": 13
        }
      ]
    },
    {
      "cell_type": "markdown",
      "source": [
        "## STATISTIK DATA"
      ],
      "metadata": {
        "id": "UXhBhPrEMp6Q"
      }
    },
    {
      "cell_type": "code",
      "source": [
        "# Mencari statistik data pada keseluruhan atribut\n",
        "df[[\"Year\", \"North America\", \"Europe\", \"Japan\", \"Rest of World\", \"Global\"]].describe()"
      ],
      "metadata": {
        "id": "77AMhBybsal3",
        "outputId": "b924392d-721b-4cbb-ab54-0b2da1580002",
        "colab": {
          "base_uri": "https://localhost:8080/",
          "height": 300
        }
      },
      "execution_count": null,
      "outputs": [
        {
          "output_type": "execute_result",
          "data": {
            "text/plain": [
              "              Year  North America      Europe       Japan  Rest of World  \\\n",
              "count   505.000000     505.000000  505.000000  505.000000     505.000000   \n",
              "mean   2015.821782       0.322139    0.160713    0.001010       0.048495   \n",
              "std       1.382975       0.641556    0.363292    0.004626       0.096320   \n",
              "min    2013.000000       0.000000    0.000000    0.000000       0.000000   \n",
              "25%    2015.000000       0.020000    0.000000    0.000000       0.000000   \n",
              "50%    2016.000000       0.080000    0.020000    0.000000       0.010000   \n",
              "75%    2017.000000       0.310000    0.130000    0.000000       0.050000   \n",
              "max    2020.000000       4.700000    3.250000    0.040000       0.760000   \n",
              "\n",
              "           Global  \n",
              "count  505.000000  \n",
              "mean     0.532356  \n",
              "std      1.060156  \n",
              "min      0.000000  \n",
              "25%      0.020000  \n",
              "50%      0.120000  \n",
              "75%      0.500000  \n",
              "max      8.720000  "
            ],
            "text/html": [
              "\n",
              "  <div id=\"df-8f43c0b8-a8cb-49ec-99de-01f5f385062b\">\n",
              "    <div class=\"colab-df-container\">\n",
              "      <div>\n",
              "<style scoped>\n",
              "    .dataframe tbody tr th:only-of-type {\n",
              "        vertical-align: middle;\n",
              "    }\n",
              "\n",
              "    .dataframe tbody tr th {\n",
              "        vertical-align: top;\n",
              "    }\n",
              "\n",
              "    .dataframe thead th {\n",
              "        text-align: right;\n",
              "    }\n",
              "</style>\n",
              "<table border=\"1\" class=\"dataframe\">\n",
              "  <thead>\n",
              "    <tr style=\"text-align: right;\">\n",
              "      <th></th>\n",
              "      <th>Year</th>\n",
              "      <th>North America</th>\n",
              "      <th>Europe</th>\n",
              "      <th>Japan</th>\n",
              "      <th>Rest of World</th>\n",
              "      <th>Global</th>\n",
              "    </tr>\n",
              "  </thead>\n",
              "  <tbody>\n",
              "    <tr>\n",
              "      <th>count</th>\n",
              "      <td>505.000000</td>\n",
              "      <td>505.000000</td>\n",
              "      <td>505.000000</td>\n",
              "      <td>505.000000</td>\n",
              "      <td>505.000000</td>\n",
              "      <td>505.000000</td>\n",
              "    </tr>\n",
              "    <tr>\n",
              "      <th>mean</th>\n",
              "      <td>2015.821782</td>\n",
              "      <td>0.322139</td>\n",
              "      <td>0.160713</td>\n",
              "      <td>0.001010</td>\n",
              "      <td>0.048495</td>\n",
              "      <td>0.532356</td>\n",
              "    </tr>\n",
              "    <tr>\n",
              "      <th>std</th>\n",
              "      <td>1.382975</td>\n",
              "      <td>0.641556</td>\n",
              "      <td>0.363292</td>\n",
              "      <td>0.004626</td>\n",
              "      <td>0.096320</td>\n",
              "      <td>1.060156</td>\n",
              "    </tr>\n",
              "    <tr>\n",
              "      <th>min</th>\n",
              "      <td>2013.000000</td>\n",
              "      <td>0.000000</td>\n",
              "      <td>0.000000</td>\n",
              "      <td>0.000000</td>\n",
              "      <td>0.000000</td>\n",
              "      <td>0.000000</td>\n",
              "    </tr>\n",
              "    <tr>\n",
              "      <th>25%</th>\n",
              "      <td>2015.000000</td>\n",
              "      <td>0.020000</td>\n",
              "      <td>0.000000</td>\n",
              "      <td>0.000000</td>\n",
              "      <td>0.000000</td>\n",
              "      <td>0.020000</td>\n",
              "    </tr>\n",
              "    <tr>\n",
              "      <th>50%</th>\n",
              "      <td>2016.000000</td>\n",
              "      <td>0.080000</td>\n",
              "      <td>0.020000</td>\n",
              "      <td>0.000000</td>\n",
              "      <td>0.010000</td>\n",
              "      <td>0.120000</td>\n",
              "    </tr>\n",
              "    <tr>\n",
              "      <th>75%</th>\n",
              "      <td>2017.000000</td>\n",
              "      <td>0.310000</td>\n",
              "      <td>0.130000</td>\n",
              "      <td>0.000000</td>\n",
              "      <td>0.050000</td>\n",
              "      <td>0.500000</td>\n",
              "    </tr>\n",
              "    <tr>\n",
              "      <th>max</th>\n",
              "      <td>2020.000000</td>\n",
              "      <td>4.700000</td>\n",
              "      <td>3.250000</td>\n",
              "      <td>0.040000</td>\n",
              "      <td>0.760000</td>\n",
              "      <td>8.720000</td>\n",
              "    </tr>\n",
              "  </tbody>\n",
              "</table>\n",
              "</div>\n",
              "      <button class=\"colab-df-convert\" onclick=\"convertToInteractive('df-8f43c0b8-a8cb-49ec-99de-01f5f385062b')\"\n",
              "              title=\"Convert this dataframe to an interactive table.\"\n",
              "              style=\"display:none;\">\n",
              "        \n",
              "  <svg xmlns=\"http://www.w3.org/2000/svg\" height=\"24px\"viewBox=\"0 0 24 24\"\n",
              "       width=\"24px\">\n",
              "    <path d=\"M0 0h24v24H0V0z\" fill=\"none\"/>\n",
              "    <path d=\"M18.56 5.44l.94 2.06.94-2.06 2.06-.94-2.06-.94-.94-2.06-.94 2.06-2.06.94zm-11 1L8.5 8.5l.94-2.06 2.06-.94-2.06-.94L8.5 2.5l-.94 2.06-2.06.94zm10 10l.94 2.06.94-2.06 2.06-.94-2.06-.94-.94-2.06-.94 2.06-2.06.94z\"/><path d=\"M17.41 7.96l-1.37-1.37c-.4-.4-.92-.59-1.43-.59-.52 0-1.04.2-1.43.59L10.3 9.45l-7.72 7.72c-.78.78-.78 2.05 0 2.83L4 21.41c.39.39.9.59 1.41.59.51 0 1.02-.2 1.41-.59l7.78-7.78 2.81-2.81c.8-.78.8-2.07 0-2.86zM5.41 20L4 18.59l7.72-7.72 1.47 1.35L5.41 20z\"/>\n",
              "  </svg>\n",
              "      </button>\n",
              "      \n",
              "  <style>\n",
              "    .colab-df-container {\n",
              "      display:flex;\n",
              "      flex-wrap:wrap;\n",
              "      gap: 12px;\n",
              "    }\n",
              "\n",
              "    .colab-df-convert {\n",
              "      background-color: #E8F0FE;\n",
              "      border: none;\n",
              "      border-radius: 50%;\n",
              "      cursor: pointer;\n",
              "      display: none;\n",
              "      fill: #1967D2;\n",
              "      height: 32px;\n",
              "      padding: 0 0 0 0;\n",
              "      width: 32px;\n",
              "    }\n",
              "\n",
              "    .colab-df-convert:hover {\n",
              "      background-color: #E2EBFA;\n",
              "      box-shadow: 0px 1px 2px rgba(60, 64, 67, 0.3), 0px 1px 3px 1px rgba(60, 64, 67, 0.15);\n",
              "      fill: #174EA6;\n",
              "    }\n",
              "\n",
              "    [theme=dark] .colab-df-convert {\n",
              "      background-color: #3B4455;\n",
              "      fill: #D2E3FC;\n",
              "    }\n",
              "\n",
              "    [theme=dark] .colab-df-convert:hover {\n",
              "      background-color: #434B5C;\n",
              "      box-shadow: 0px 1px 3px 1px rgba(0, 0, 0, 0.15);\n",
              "      filter: drop-shadow(0px 1px 2px rgba(0, 0, 0, 0.3));\n",
              "      fill: #FFFFFF;\n",
              "    }\n",
              "  </style>\n",
              "\n",
              "      <script>\n",
              "        const buttonEl =\n",
              "          document.querySelector('#df-8f43c0b8-a8cb-49ec-99de-01f5f385062b button.colab-df-convert');\n",
              "        buttonEl.style.display =\n",
              "          google.colab.kernel.accessAllowed ? 'block' : 'none';\n",
              "\n",
              "        async function convertToInteractive(key) {\n",
              "          const element = document.querySelector('#df-8f43c0b8-a8cb-49ec-99de-01f5f385062b');\n",
              "          const dataTable =\n",
              "            await google.colab.kernel.invokeFunction('convertToInteractive',\n",
              "                                                     [key], {});\n",
              "          if (!dataTable) return;\n",
              "\n",
              "          const docLinkHtml = 'Like what you see? Visit the ' +\n",
              "            '<a target=\"_blank\" href=https://colab.research.google.com/notebooks/data_table.ipynb>data table notebook</a>'\n",
              "            + ' to learn more about interactive tables.';\n",
              "          element.innerHTML = '';\n",
              "          dataTable['output_type'] = 'display_data';\n",
              "          await google.colab.output.renderOutput(dataTable, element);\n",
              "          const docLink = document.createElement('div');\n",
              "          docLink.innerHTML = docLinkHtml;\n",
              "          element.appendChild(docLink);\n",
              "        }\n",
              "      </script>\n",
              "    </div>\n",
              "  </div>\n",
              "  "
            ]
          },
          "metadata": {},
          "execution_count": 4
        }
      ]
    },
    {
      "cell_type": "code",
      "source": [
        "# Mencari data minimum dari setiap kolom\n",
        "df.min()"
      ],
      "metadata": {
        "id": "xDoEXmsKsYq9",
        "outputId": "f3923841-9d04-4739-8d2a-88f09449b4c6",
        "colab": {
          "base_uri": "https://localhost:8080/"
        }
      },
      "execution_count": null,
      "outputs": [
        {
          "output_type": "execute_result",
          "data": {
            "text/plain": [
              "Pos                           1\n",
              "Game              7 Days to Die\n",
              "Year                     2013.0\n",
              "Genre                    Action\n",
              "Publisher        11 bit studios\n",
              "North America               0.0\n",
              "Europe                      0.0\n",
              "Japan                       0.0\n",
              "Rest of World               0.0\n",
              "Global                      0.0\n",
              "dtype: object"
            ]
          },
          "metadata": {},
          "execution_count": 19
        }
      ]
    },
    {
      "cell_type": "code",
      "source": [
        "# Mencari data maksimum dari setiap kolom\n",
        "df.max()"
      ],
      "metadata": {
        "colab": {
          "base_uri": "https://localhost:8080/"
        },
        "id": "Gm7K5fD8sWdz",
        "outputId": "7d83e507-0e69-4ad1-8f7f-659867e95832"
      },
      "execution_count": null,
      "outputs": [
        {
          "output_type": "execute_result",
          "data": {
            "text/plain": [
              "Pos                                      613\n",
              "Game             theHunter: Call of the Wild\n",
              "Year                                  2020.0\n",
              "Genre                           Visual Novel\n",
              "Publisher                   Yacht Club Games\n",
              "North America                            4.7\n",
              "Europe                                  3.25\n",
              "Japan                                   0.04\n",
              "Rest of World                           0.76\n",
              "Global                                  8.72\n",
              "dtype: object"
            ]
          },
          "metadata": {},
          "execution_count": 18
        }
      ]
    },
    {
      "cell_type": "code",
      "source": [
        "# Percentile 10%\n",
        "persen10 = df.quantile(q=0.10)\n",
        "persen10"
      ],
      "metadata": {
        "colab": {
          "base_uri": "https://localhost:8080/"
        },
        "id": "fmpqkJwHsUiz",
        "outputId": "8972b93c-c246-4967-c693-77f802d8ce86"
      },
      "execution_count": null,
      "outputs": [
        {
          "output_type": "execute_result",
          "data": {
            "text/plain": [
              "Pos                51.4\n",
              "Year             2014.0\n",
              "North America       0.0\n",
              "Europe              0.0\n",
              "Japan               0.0\n",
              "Rest of World       0.0\n",
              "Global              0.0\n",
              "Name: 0.1, dtype: float64"
            ]
          },
          "metadata": {},
          "execution_count": 17
        }
      ]
    },
    {
      "cell_type": "code",
      "source": [
        "# Percentile 25%\n",
        "persen25 = df.quantile(q=0.25)\n",
        "persen25"
      ],
      "metadata": {
        "colab": {
          "base_uri": "https://localhost:8080/"
        },
        "id": "88SywYHksSyV",
        "outputId": "57163375-6dfb-4041-c8a0-f58a84a05309"
      },
      "execution_count": null,
      "outputs": [
        {
          "output_type": "execute_result",
          "data": {
            "text/plain": [
              "Pos               127.00\n",
              "Year             2015.00\n",
              "North America       0.02\n",
              "Europe              0.00\n",
              "Japan               0.00\n",
              "Rest of World       0.00\n",
              "Global              0.02\n",
              "Name: 0.25, dtype: float64"
            ]
          },
          "metadata": {},
          "execution_count": 16
        }
      ]
    },
    {
      "cell_type": "code",
      "source": [
        "# Percentile 50%\n",
        "persen50 = df.quantile(q=0.50)\n",
        "persen50"
      ],
      "metadata": {
        "colab": {
          "base_uri": "https://localhost:8080/"
        },
        "id": "gZndUnoXsRNC",
        "outputId": "c6cdd79a-9d44-47d5-bc92-d5e9d5ee7718"
      },
      "execution_count": null,
      "outputs": [
        {
          "output_type": "execute_result",
          "data": {
            "text/plain": [
              "Pos               254.00\n",
              "Year             2016.00\n",
              "North America       0.08\n",
              "Europe              0.02\n",
              "Japan               0.00\n",
              "Rest of World       0.01\n",
              "Global              0.12\n",
              "Name: 0.5, dtype: float64"
            ]
          },
          "metadata": {},
          "execution_count": 15
        }
      ]
    },
    {
      "cell_type": "code",
      "source": [
        "# Percentile 75%\n",
        "persen75 = df.quantile(q=0.75)\n",
        "persen75"
      ],
      "metadata": {
        "colab": {
          "base_uri": "https://localhost:8080/"
        },
        "id": "IN0M0ls-sOT3",
        "outputId": "598c0bdf-8fd4-4740-819c-5814d05af8d3"
      },
      "execution_count": null,
      "outputs": [
        {
          "output_type": "execute_result",
          "data": {
            "text/plain": [
              "Pos               380.00\n",
              "Year             2017.00\n",
              "North America       0.31\n",
              "Europe              0.13\n",
              "Japan               0.00\n",
              "Rest of World       0.05\n",
              "Global              0.50\n",
              "Name: 0.75, dtype: float64"
            ]
          },
          "metadata": {},
          "execution_count": 14
        }
      ]
    },
    {
      "cell_type": "code",
      "source": [
        "# Percentile 90%\n",
        "persen90 = df.quantile(q=0.90)\n",
        "persen90"
      ],
      "metadata": {
        "colab": {
          "base_uri": "https://localhost:8080/"
        },
        "id": "_5ZTkNwZsJ2k",
        "outputId": "b9456714-10ec-49b5-98b4-465f5b34effc"
      },
      "execution_count": null,
      "outputs": [
        {
          "output_type": "execute_result",
          "data": {
            "text/plain": [
              "Pos               499.800\n",
              "Year             2017.000\n",
              "North America       0.892\n",
              "Europe              0.452\n",
              "Japan               0.000\n",
              "Rest of World       0.140\n",
              "Global              1.580\n",
              "Name: 0.9, dtype: float64"
            ]
          },
          "metadata": {},
          "execution_count": 13
        }
      ]
    },
    {
      "cell_type": "markdown",
      "source": [
        "## VISUALISASI DATA"
      ],
      "metadata": {
        "id": "d9MwTUnNMvl6"
      }
    },
    {
      "cell_type": "code",
      "source": [
        "df[\"Genre\"].value_counts().plot(kind=\"pie\")"
      ],
      "metadata": {
        "id": "lxjlycQoloju",
        "colab": {
          "base_uri": "https://localhost:8080/",
          "height": 265
        },
        "outputId": "e27a6920-58c1-4dd0-9457-090961033103"
      },
      "execution_count": null,
      "outputs": [
        {
          "output_type": "execute_result",
          "data": {
            "text/plain": [
              "<matplotlib.axes._subplots.AxesSubplot at 0x7f84cd34e950>"
            ]
          },
          "metadata": {},
          "execution_count": 11
        },
        {
          "output_type": "display_data",
          "data": {
            "text/plain": [
              "<Figure size 432x288 with 1 Axes>"
            ],
            "image/png": "[encoded data removed]"
          },
          "metadata": {}
        }
      ]
    },
    {
      "cell_type": "code",
      "source": [
        "import pandas as pd\n",
        "import matplotlib .pyplot as plt\n",
        "df1 = df.groupby('Publisher').sum()\n",
        "a = df1.sort_values ([\"Global\"], ascending =[0])\n",
        "b = a[:10]\n",
        "print(b)\n",
        "b.plot(kind=\"bar\", y = 'Global', color=\"pink\")\n",
        "b.plot(kind=\"bar\", y = ['North America', 'Europe', 'Rest of World'], stacked = True)\n",
        "df2 = df.groupby('Genre')['Publisher'].sum()\n",
        "print(df2)\n",
        "x = df2[:10]\n",
        "\n"
      ],
      "metadata": {
        "colab": {
          "base_uri": "https://localhost:8080/",
          "height": 1000
        },
        "id": "wAuX-Tdrl840",
        "outputId": "31c32484-c052-4fbd-e59a-841c591ebf09"
      },
      "execution_count": null,
      "outputs": [
        {
          "output_type": "stream",
          "name": "stdout",
          "text": [
            "                                         Pos     Year  North America  Europe  \\\n",
            "Publisher                                                                      \n",
            "Microsoft Studios                       4196  62478.0          25.59   14.79   \n",
            "Activision                              5475  58436.0          24.20   10.26   \n",
            "Ubisoft                                 9431  90690.0          18.68   10.04   \n",
            "Electronic Arts                         2493  44341.0          17.35   10.22   \n",
            "EA Sports                               2331  38290.0          13.62    7.01   \n",
            "Warner Bros. Interactive Entertainment  4121  52414.0          10.01    4.74   \n",
            "Rockstar Games                           185   6049.0           8.60    4.81   \n",
            "Bethesda Softworks                      2002  30238.0           8.29    4.69   \n",
            "2K Sports                                448  14106.0           8.16    1.19   \n",
            "Square Enix                             3264  30226.0           3.50    2.47   \n",
            "\n",
            "                                        Japan  Rest of World  Global  \n",
            "Publisher                                                             \n",
            "Microsoft Studios                        0.22           3.99   44.61  \n",
            "Activision                               0.03           3.53   38.02  \n",
            "Ubisoft                                  0.02           2.87   31.57  \n",
            "Electronic Arts                          0.09           2.70   30.37  \n",
            "EA Sports                                0.00           2.05   22.69  \n",
            "Warner Bros. Interactive Entertainment   0.02           1.50   16.23  \n",
            "Rockstar Games                           0.01           1.32   14.74  \n",
            "Bethesda Softworks                       0.02           1.29   14.27  \n",
            "2K Sports                                0.00           1.05   10.42  \n",
            "Square Enix                              0.04           0.58    6.58  \n",
            "Genre\n",
            "Action              Rockstar GamesUbisoftUbisoftUbisoftUbisoftMicr...\n",
            "Action-Adventure    Rockstar GamesUbisoft2K GamesSquare EnixUbisof...\n",
            "Adventure           Square EnixMojangSegaTelltale GamesRockstar Ga...\n",
            "Fighting            Warner Bros. Interactive EntertainmentWarner B...\n",
            "MMO                              Bethesda SoftworksBethesda Softworks\n",
            "Misc                Microsoft StudiosMicrosoft StudiosBethesda Sof...\n",
            "Music               ActivisionHarmonix Music SystemsUbisoftUbisoft...\n",
            "Platform            ActivisionUbisoftWarner Bros. Interactive Ente...\n",
            "Puzzle              ActivisionNighthawk InteractiveKalypso MediaSe...\n",
            "Racing              Microsoft StudiosMicrosoft StudiosMicrosoft St...\n",
            "Role-Playing        Bethesda SoftworksBethesda SoftworksNamco Band...\n",
            "Shooter             ActivisionActivisionActivisionElectronic ArtsM...\n",
            "Simulation          Electronic ArtsMicrosoft StudiosFocus Home Int...\n",
            "Sports              Electronic ArtsEA SportsEA SportsEA SportsEA S...\n",
            "Strategy            Microsoft Studios2K GamesSystem 3Sold OutTeam1...\n",
            "Visual Novel                                                   5pb5pb\n",
            "Name: Publisher, dtype: object\n"
          ]
        },
        {
          "output_type": "display_data",
          "data": {
            "text/plain": [
              "<Figure size 432x288 with 1 Axes>"
            ],
            "image/png": "[encoded data removed]"
          },
          "metadata": {
            "needs_background": "light"
          }
        },
        {
          "output_type": "display_data",
          "data": {
            "text/plain": [
              "<Figure size 432x288 with 1 Axes>"
            ],
            "image/png": "[encoded data removed]"
          },
          "metadata": {
            "needs_background": "light"
          }
        }
      ]
    },
    {
      "cell_type": "code",
      "source": [
        "import pandas as pd\n",
        "import matplotlib .pyplot as plt\n",
        "df1 = df.groupby('Publisher').sum()\n",
        "a = df1.sort_values ([\"Global\"], ascending =[0])\n",
        "b = a[:10]\n",
        "print(b)\n",
        "b.plot(kind=\"bar\", y = 'Global', color=\"pink\")\n",
        "b.plot(kind=\"barh\", y = ['North America', 'Europe', 'Japan'], stacked = True)\n",
        "df2 = df.groupby('Genre')['Publisher'].sum()\n",
        "print(df2)\n",
        "x = df2[:10]\n"
      ],
      "metadata": {
        "colab": {
          "base_uri": "https://localhost:8080/",
          "height": 1000
        },
        "id": "hmAje4pc70ZI",
        "outputId": "e0a4ea71-2af0-4160-dc1e-93669fe2635d"
      },
      "execution_count": null,
      "outputs": [
        {
          "output_type": "stream",
          "name": "stdout",
          "text": [
            "                                         Pos     Year  North America  Europe  \\\n",
            "Publisher                                                                      \n",
            "Microsoft Studios                       4196  62478.0          25.59   14.79   \n",
            "Activision                              5475  58436.0          24.20   10.26   \n",
            "Ubisoft                                 9431  90690.0          18.68   10.04   \n",
            "Electronic Arts                         2493  44341.0          17.35   10.22   \n",
            "EA Sports                               2331  38290.0          13.62    7.01   \n",
            "Warner Bros. Interactive Entertainment  4121  52414.0          10.01    4.74   \n",
            "Rockstar Games                           185   6049.0           8.60    4.81   \n",
            "Bethesda Softworks                      2002  30238.0           8.29    4.69   \n",
            "2K Sports                                448  14106.0           8.16    1.19   \n",
            "Square Enix                             3264  30226.0           3.50    2.47   \n",
            "\n",
            "                                        Japan  Rest of World  Global  \n",
            "Publisher                                                             \n",
            "Microsoft Studios                        0.22           3.99   44.61  \n",
            "Activision                               0.03           3.53   38.02  \n",
            "Ubisoft                                  0.02           2.87   31.57  \n",
            "Electronic Arts                          0.09           2.70   30.37  \n",
            "EA Sports                                0.00           2.05   22.69  \n",
            "Warner Bros. Interactive Entertainment   0.02           1.50   16.23  \n",
            "Rockstar Games                           0.01           1.32   14.74  \n",
            "Bethesda Softworks                       0.02           1.29   14.27  \n",
            "2K Sports                                0.00           1.05   10.42  \n",
            "Square Enix                              0.04           0.58    6.58  \n",
            "Genre\n",
            "Action              Rockstar GamesUbisoftUbisoftUbisoftUbisoftMicr...\n",
            "Action-Adventure    Rockstar GamesUbisoft2K GamesSquare EnixUbisof...\n",
            "Adventure           Square EnixMojangSegaTelltale GamesRockstar Ga...\n",
            "Fighting            Warner Bros. Interactive EntertainmentWarner B...\n",
            "MMO                              Bethesda SoftworksBethesda Softworks\n",
            "Misc                Microsoft StudiosMicrosoft StudiosBethesda Sof...\n",
            "Music               ActivisionHarmonix Music SystemsUbisoftUbisoft...\n",
            "Platform            ActivisionUbisoftWarner Bros. Interactive Ente...\n",
            "Puzzle              ActivisionNighthawk InteractiveKalypso MediaSe...\n",
            "Racing              Microsoft StudiosMicrosoft StudiosMicrosoft St...\n",
            "Role-Playing        Bethesda SoftworksBethesda SoftworksNamco Band...\n",
            "Shooter             ActivisionActivisionActivisionElectronic ArtsM...\n",
            "Simulation          Electronic ArtsMicrosoft StudiosFocus Home Int...\n",
            "Sports              Electronic ArtsEA SportsEA SportsEA SportsEA S...\n",
            "Strategy            Microsoft Studios2K GamesSystem 3Sold OutTeam1...\n",
            "Visual Novel                                                   5pb5pb\n",
            "Name: Publisher, dtype: object\n"
          ]
        },
        {
          "output_type": "display_data",
          "data": {
            "text/plain": [
              "<Figure size 432x288 with 1 Axes>"
            ],
            "image/png": "[encoded data removed]"
          },
          "metadata": {
            "needs_background": "light"
          }
        },
        {
          "output_type": "display_data",
          "data": {
            "text/plain": [
              "<Figure size 432x288 with 1 Axes>"
            ],
            "image/png": "[encoded data removed]"
          },
          "metadata": {
            "needs_background": "light"
          }
        }
      ]
    },
    {
      "cell_type": "code",
      "source": [
        "import pandas as pd\n",
        "import matplotlib .pyplot as plt\n",
        "df1 = df.groupby('Publisher').sum()\n",
        "a = df1.sort_values ([\"Global\"], ascending =[0])\n",
        "b = a[:10]\n",
        "print(b)\n",
        "b.plot(kind=\"barh\", y = 'Global', color=\"pink\")"
      ],
      "metadata": {
        "colab": {
          "base_uri": "https://localhost:8080/",
          "height": 716
        },
        "id": "LYI-3wXeAMwx",
        "outputId": "e0370a87-a2bc-472c-9f44-8c2aa67f8232"
      },
      "execution_count": null,
      "outputs": [
        {
          "output_type": "stream",
          "name": "stdout",
          "text": [
            "                                         Pos     Year  North America  Europe  \\\n",
            "Publisher                                                                      \n",
            "Microsoft Studios                       4196  62478.0          25.59   14.79   \n",
            "Activision                              5475  58436.0          24.20   10.26   \n",
            "Ubisoft                                 9431  90690.0          18.68   10.04   \n",
            "Electronic Arts                         2493  44341.0          17.35   10.22   \n",
            "EA Sports                               2331  38290.0          13.62    7.01   \n",
            "Warner Bros. Interactive Entertainment  4121  52414.0          10.01    4.74   \n",
            "Rockstar Games                           185   6049.0           8.60    4.81   \n",
            "Bethesda Softworks                      2002  30238.0           8.29    4.69   \n",
            "2K Sports                                448  14106.0           8.16    1.19   \n",
            "Square Enix                             3264  30226.0           3.50    2.47   \n",
            "\n",
            "                                        Japan  Rest of World  Global  \n",
            "Publisher                                                             \n",
            "Microsoft Studios                        0.22           3.99   44.61  \n",
            "Activision                               0.03           3.53   38.02  \n",
            "Ubisoft                                  0.02           2.87   31.57  \n",
            "Electronic Arts                          0.09           2.70   30.37  \n",
            "EA Sports                                0.00           2.05   22.69  \n",
            "Warner Bros. Interactive Entertainment   0.02           1.50   16.23  \n",
            "Rockstar Games                           0.01           1.32   14.74  \n",
            "Bethesda Softworks                       0.02           1.29   14.27  \n",
            "2K Sports                                0.00           1.05   10.42  \n",
            "Square Enix                              0.04           0.58    6.58  \n"
          ]
        },
        {
          "output_type": "execute_result",
          "data": {
            "text/plain": [
              "<matplotlib.axes._subplots.AxesSubplot at 0x7fdc46e263d0>"
            ]
          },
          "metadata": {},
          "execution_count": 15
        },
        {
          "output_type": "display_data",
          "data": {
            "text/plain": [
              "<Figure size 432x288 with 1 Axes>"
            ],
            "image/png": "[encoded data removed]"
          },
          "metadata": {
            "needs_background": "light"
          }
        }
      ]
    },
    {
      "cell_type": "code",
      "source": [
        "# Grafik genre Action yang muncul pada tiap tahun\n",
        "action = df[df['Genre'] == 'Action']\n",
        "df2 = action.groupby('Year')['Genre'].count()\n",
        "df2.plot(kind='line')"
      ],
      "metadata": {
        "id": "ipxPGXhGsyUZ",
        "colab": {
          "base_uri": "https://localhost:8080/",
          "height": 296
        },
        "outputId": "fed78bcb-548d-44a9-cea5-13e628feede4"
      },
      "execution_count": null,
      "outputs": [
        {
          "output_type": "execute_result",
          "data": {
            "text/plain": [
              "<matplotlib.axes._subplots.AxesSubplot at 0x7f932b70a610>"
            ]
          },
          "metadata": {},
          "execution_count": 50
        },
        {
          "output_type": "display_data",
          "data": {
            "text/plain": [
              "<Figure size 432x288 with 1 Axes>"
            ],
            "image/png": "[encoded data removed]"
          },
          "metadata": {
            "needs_background": "light"
          }
        }
      ]
    },
    {
      "cell_type": "code",
      "source": [
        "# Grafik genre Action-Adventure yang muncul pada tiap tahun\n",
        "actadv = df[df['Genre'] == 'Action-Adventure']\n",
        "df2 = actadv.groupby('Year')['Genre'].count()\n",
        "df2.plot(kind='line')"
      ],
      "metadata": {
        "colab": {
          "base_uri": "https://localhost:8080/",
          "height": 296
        },
        "id": "O1z2bnJuwBUI",
        "outputId": "6b5d8798-81cb-4183-e123-01fbfd71e634"
      },
      "execution_count": null,
      "outputs": [
        {
          "output_type": "execute_result",
          "data": {
            "text/plain": [
              "<matplotlib.axes._subplots.AxesSubplot at 0x7f932b75f110>"
            ]
          },
          "metadata": {},
          "execution_count": 57
        },
        {
          "output_type": "display_data",
          "data": {
            "text/plain": [
              "<Figure size 432x288 with 1 Axes>"
            ],
            "image/png": "[encoded data removed]"
          },
          "metadata": {
            "needs_background": "light"
          }
        }
      ]
    },
    {
      "cell_type": "code",
      "source": [
        "# Grafik genre Adventure yang muncul pada tiap tahun\n",
        "adv = df[df['Genre'] == 'Adventure']\n",
        "df2 = adv.groupby('Year')['Genre'].count()\n",
        "df2.plot(kind='line')"
      ],
      "metadata": {
        "colab": {
          "base_uri": "https://localhost:8080/",
          "height": 296
        },
        "id": "BmMxr0a0xTqG",
        "outputId": "fc9fb9fb-0604-4db8-db5b-5ea272498dac"
      },
      "execution_count": null,
      "outputs": [
        {
          "output_type": "execute_result",
          "data": {
            "text/plain": [
              "<matplotlib.axes._subplots.AxesSubplot at 0x7f932b747a10>"
            ]
          },
          "metadata": {},
          "execution_count": 56
        },
        {
          "output_type": "display_data",
          "data": {
            "text/plain": [
              "<Figure size 432x288 with 1 Axes>"
            ],
            "image/png": "[encoded data removed]"
          },
          "metadata": {
            "needs_background": "light"
          }
        }
      ]
    },
    {
      "cell_type": "code",
      "source": [
        "# Grafik genre Fighting yang muncul pada tiap tahun\n",
        "fight = df[df['Genre'] == 'Fighting']\n",
        "df2 = fight.groupby('Year')['Genre'].count()\n",
        "df2.plot(kind='line')"
      ],
      "metadata": {
        "colab": {
          "base_uri": "https://localhost:8080/",
          "height": 296
        },
        "id": "uQ4dLT9Hxe9T",
        "outputId": "34f8c1f8-bb52-4f74-8c1f-ce642bc09689"
      },
      "execution_count": null,
      "outputs": [
        {
          "output_type": "execute_result",
          "data": {
            "text/plain": [
              "<matplotlib.axes._subplots.AxesSubplot at 0x7f932b4b0e10>"
            ]
          },
          "metadata": {},
          "execution_count": 58
        },
        {
          "output_type": "display_data",
          "data": {
            "text/plain": [
              "<Figure size 432x288 with 1 Axes>"
            ],
            "image/png": "[encoded data removed]"
          },
          "metadata": {
            "needs_background": "light"
          }
        }
      ]
    },
    {
      "cell_type": "code",
      "source": [
        "# Grafik genre MMO yang muncul pada tiap tahun\n",
        "MMO = df[df['Genre'] == 'MMO']\n",
        "df2 = MMO.groupby('Year')['Genre'].count()\n",
        "df2.plot(kind='line')"
      ],
      "metadata": {
        "colab": {
          "base_uri": "https://localhost:8080/",
          "height": 296
        },
        "id": "sFVBClzgyMDT",
        "outputId": "657dbecc-1fc5-4fd5-cb0c-36039fec01d0"
      },
      "execution_count": null,
      "outputs": [
        {
          "output_type": "execute_result",
          "data": {
            "text/plain": [
              "<matplotlib.axes._subplots.AxesSubplot at 0x7f9326bbc0d0>"
            ]
          },
          "metadata": {},
          "execution_count": 74
        },
        {
          "output_type": "display_data",
          "data": {
            "text/plain": [
              "<Figure size 432x288 with 1 Axes>"
            ],
            "image/png": "[encoded data removed]"
          },
          "metadata": {
            "needs_background": "light"
          }
        }
      ]
    },
    {
      "cell_type": "code",
      "source": [
        "# Grafik genre Misc yang muncul pada tiap tahun\n",
        "misc = df[df['Genre'] == 'Misc']\n",
        "df2 = misc.groupby('Year')['Genre'].count()\n",
        "df2.plot(kind='line')"
      ],
      "metadata": {
        "colab": {
          "base_uri": "https://localhost:8080/",
          "height": 296
        },
        "id": "KQcqsNDyy81A",
        "outputId": "87041b7d-71c0-485f-a3a5-8439838041ba"
      },
      "execution_count": null,
      "outputs": [
        {
          "output_type": "execute_result",
          "data": {
            "text/plain": [
              "<matplotlib.axes._subplots.AxesSubplot at 0x7f932b40a8d0>"
            ]
          },
          "metadata": {},
          "execution_count": 61
        },
        {
          "output_type": "display_data",
          "data": {
            "text/plain": [
              "<Figure size 432x288 with 1 Axes>"
            ],
            "image/png": "[encoded data removed]"
          },
          "metadata": {
            "needs_background": "light"
          }
        }
      ]
    },
    {
      "cell_type": "code",
      "source": [
        "# Grafik genre Music yang muncul pada tiap tahun\n",
        "music = df[df['Genre'] == 'Music']\n",
        "df2 = music.groupby('Year')['Genre'].count()\n",
        "df2.plot(kind='line')"
      ],
      "metadata": {
        "colab": {
          "base_uri": "https://localhost:8080/",
          "height": 296
        },
        "id": "tlCzMMudzHej",
        "outputId": "57c93ef1-667f-43ac-d2c5-acb37f028346"
      },
      "execution_count": null,
      "outputs": [
        {
          "output_type": "execute_result",
          "data": {
            "text/plain": [
              "<matplotlib.axes._subplots.AxesSubplot at 0x7f932b397a10>"
            ]
          },
          "metadata": {},
          "execution_count": 62
        },
        {
          "output_type": "display_data",
          "data": {
            "text/plain": [
              "<Figure size 432x288 with 1 Axes>"
            ],
            "image/png": "[encoded data removed]"
          },
          "metadata": {
            "needs_background": "light"
          }
        }
      ]
    },
    {
      "cell_type": "code",
      "source": [
        "# Grafik genre Platform yang muncul pada tiap tahun\n",
        "plat = df[df['Genre'] == 'Platform']\n",
        "df2 = plat.groupby('Year')['Genre'].count()\n",
        "df2.plot(kind='line')"
      ],
      "metadata": {
        "colab": {
          "base_uri": "https://localhost:8080/",
          "height": 296
        },
        "id": "8VChQIwkzOsb",
        "outputId": "fcb4cb5d-a0b6-4eb7-8fe5-d92aa6160248"
      },
      "execution_count": null,
      "outputs": [
        {
          "output_type": "execute_result",
          "data": {
            "text/plain": [
              "<matplotlib.axes._subplots.AxesSubplot at 0x7f932b303f50>"
            ]
          },
          "metadata": {},
          "execution_count": 63
        },
        {
          "output_type": "display_data",
          "data": {
            "text/plain": [
              "<Figure size 432x288 with 1 Axes>"
            ],
            "image/png": "[encoded data removed]"
          },
          "metadata": {
            "needs_background": "light"
          }
        }
      ]
    },
    {
      "cell_type": "code",
      "source": [
        "a = df.groupby(\"Year\")[\"Global\"].count()\n",
        "print(a)\n",
        "a.plot(kind=\"line\")"
      ],
      "metadata": {
        "colab": {
          "base_uri": "https://localhost:8080/",
          "height": 470
        },
        "id": "6YhVaHzjGARq",
        "outputId": "543671b6-71b8-4443-9045-09b89e1f2e4a"
      },
      "execution_count": null,
      "outputs": [
        {
          "output_type": "stream",
          "name": "stdout",
          "text": [
            "Year\n",
            "2013.0     20\n",
            "2014.0     77\n",
            "2015.0    109\n",
            "2016.0    120\n",
            "2017.0    142\n",
            "2018.0     24\n",
            "2019.0      9\n",
            "2020.0      4\n",
            "Name: Global, dtype: int64\n"
          ]
        },
        {
          "output_type": "execute_result",
          "data": {
            "text/plain": [
              "<matplotlib.axes._subplots.AxesSubplot at 0x7fe834d69880>"
            ]
          },
          "metadata": {},
          "execution_count": 9
        },
        {
          "output_type": "display_data",
          "data": {
            "text/plain": [
              "<Figure size 432x288 with 1 Axes>"
            ],
            "image/png": "[encoded data removed]"
          },
          "metadata": {
            "needs_background": "light"
          }
        }
      ]
    },
    {
      "cell_type": "code",
      "source": [
        "# Mencari jumlah game tiap tahun\n",
        "df[\"Year\"].value_counts()"
      ],
      "metadata": {
        "colab": {
          "base_uri": "https://localhost:8080/"
        },
        "id": "NFTYKFMvGg5D",
        "outputId": "a8ae933b-be58-450c-eaa5-38983c6d559a"
      },
      "execution_count": null,
      "outputs": [
        {
          "output_type": "execute_result",
          "data": {
            "text/plain": [
              "2017.0    142\n",
              "2016.0    120\n",
              "2015.0    109\n",
              "2014.0     77\n",
              "2018.0     24\n",
              "2013.0     20\n",
              "2019.0      9\n",
              "2020.0      4\n",
              "Name: Year, dtype: int64"
            ]
          },
          "metadata": {},
          "execution_count": 8
        }
      ]
    },
    {
      "cell_type": "code",
      "source": [
        "# Mencari jumlah game tiap genre\n",
        "df2 = df.groupby(['Genre'])['Genre'].count()\n",
        "df2"
      ],
      "metadata": {
        "id": "q7kPyVlrs6ID",
        "colab": {
          "base_uri": "https://localhost:8080/"
        },
        "outputId": "23d30827-bfe2-48dd-b913-7d8b3b76cfca"
      },
      "execution_count": null,
      "outputs": [
        {
          "output_type": "execute_result",
          "data": {
            "text/plain": [
              "Genre\n",
              "Action              117\n",
              "Action-Adventure     28\n",
              "Adventure            36\n",
              "Fighting             16\n",
              "MMO                   2\n",
              "Misc                 30\n",
              "Music                13\n",
              "Platform             18\n",
              "Puzzle                5\n",
              "Racing               45\n",
              "Role-Playing         36\n",
              "Shooter              66\n",
              "Simulation           19\n",
              "Sports               58\n",
              "Strategy             14\n",
              "Visual Novel          2\n",
              "Name: Genre, dtype: int64"
            ]
          },
          "metadata": {},
          "execution_count": 29
        }
      ]
    },
    {
      "cell_type": "code",
      "source": [
        "# Perbandingan kategori 15 Penjualan Global teratas dan Genre\n",
        "df1 = df.groupby('Genre').sum()\n",
        "a = df1.sort_values ([\"Global\"], ascending =[1])\n",
        "b = a[:15]\n",
        "b\n",
        "b.plot(kind=\"barh\", y = 'Global', color=\"navy\")"
      ],
      "metadata": {
        "colab": {
          "base_uri": "https://localhost:8080/",
          "height": 282
        },
        "id": "kTgWZLgPz65w",
        "outputId": "6b73e62c-0419-46af-c62e-c31f04ed2588"
      },
      "execution_count": null,
      "outputs": [
        {
          "output_type": "execute_result",
          "data": {
            "text/plain": [
              "<matplotlib.axes._subplots.AxesSubplot at 0x7fe834a72c10>"
            ]
          },
          "metadata": {},
          "execution_count": 14
        },
        {
          "output_type": "display_data",
          "data": {
            "text/plain": [
              "<Figure size 432x288 with 1 Axes>"
            ],
            "image/png": "[encoded data removed]"
          },
          "metadata": {
            "needs_background": "light"
          }
        }
      ]
    },
    {
      "cell_type": "code",
      "source": [
        "# Perbandingan kategori 10 Publisher teratas dan Genre\n",
        "df1 = df.groupby('Genre').count()\n",
        "a = df1.sort_values ([\"Publisher\"], ascending =[1])\n",
        "b = a[:10]\n",
        "b\n",
        "b.plot(kind=\"barh\", y = 'Publisher', color=\"skyblue\")"
      ],
      "metadata": {
        "colab": {
          "base_uri": "https://localhost:8080/",
          "height": 282
        },
        "id": "w8BWqlpR707b",
        "outputId": "4c4c4ace-3df0-439d-ecdf-124361838d41"
      },
      "execution_count": null,
      "outputs": [
        {
          "output_type": "execute_result",
          "data": {
            "text/plain": [
              "<matplotlib.axes._subplots.AxesSubplot at 0x7fe834cc6e20>"
            ]
          },
          "metadata": {},
          "execution_count": 10
        },
        {
          "output_type": "display_data",
          "data": {
            "text/plain": [
              "<Figure size 432x288 with 1 Axes>"
            ],
            "image/png": "[encoded data removed]"
          },
          "metadata": {
            "needs_background": "light"
          }
        }
      ]
    },
    {
      "cell_type": "markdown",
      "source": [
        "## KORELASI"
      ],
      "metadata": {
        "id": "MHOWRL1fN0ok"
      }
    },
    {
      "cell_type": "code",
      "source": [
        "# Mencari korelasi antar atribut\n",
        "df.corr()"
      ],
      "metadata": {
        "colab": {
          "base_uri": "https://localhost:8080/",
          "height": 269
        },
        "id": "HkBjRzlb0lGF",
        "outputId": "be099cf7-e9a3-4883-d9b7-198f7a570480"
      },
      "execution_count": null,
      "outputs": [
        {
          "output_type": "execute_result",
          "data": {
            "text/plain": [
              "                    Pos      Year  North America    Europe     Japan  \\\n",
              "Pos            1.000000  0.223683      -0.611497 -0.560756 -0.274614   \n",
              "Year           0.223683  1.000000      -0.167601 -0.178405 -0.164099   \n",
              "North America -0.611497 -0.167601       1.000000  0.821236  0.414781   \n",
              "Europe        -0.560756 -0.178405       0.821236  1.000000  0.453884   \n",
              "Japan         -0.274614 -0.164099       0.414781  0.453884  1.000000   \n",
              "Rest of World -0.620331 -0.173012       0.991173  0.887883  0.434921   \n",
              "Global        -0.619410 -0.178792       0.978151  0.921869  0.450420   \n",
              "\n",
              "               Rest of World    Global  \n",
              "Pos                -0.620331 -0.619410  \n",
              "Year               -0.173012 -0.178792  \n",
              "North America       0.991173  0.978151  \n",
              "Europe              0.887883  0.921869  \n",
              "Japan               0.434921  0.450420  \n",
              "Rest of World       1.000000  0.996440  \n",
              "Global              0.996440  1.000000  "
            ],
            "text/html": [
              "\n",
              "  <div id=\"df-f85f96cc-1178-4a5f-9dc1-6594d24d12a3\">\n",
              "    <div class=\"colab-df-container\">\n",
              "      <div>\n",
              "<style scoped>\n",
              "    .dataframe tbody tr th:only-of-type {\n",
              "        vertical-align: middle;\n",
              "    }\n",
              "\n",
              "    .dataframe tbody tr th {\n",
              "        vertical-align: top;\n",
              "    }\n",
              "\n",
              "    .dataframe thead th {\n",
              "        text-align: right;\n",
              "    }\n",
              "</style>\n",
              "<table border=\"1\" class=\"dataframe\">\n",
              "  <thead>\n",
              "    <tr style=\"text-align: right;\">\n",
              "      <th></th>\n",
              "      <th>Pos</th>\n",
              "      <th>Year</th>\n",
              "      <th>North America</th>\n",
              "      <th>Europe</th>\n",
              "      <th>Japan</th>\n",
              "      <th>Rest of World</th>\n",
              "      <th>Global</th>\n",
              "    </tr>\n",
              "  </thead>\n",
              "  <tbody>\n",
              "    <tr>\n",
              "      <th>Pos</th>\n",
              "      <td>1.000000</td>\n",
              "      <td>0.223683</td>\n",
              "      <td>-0.611497</td>\n",
              "      <td>-0.560756</td>\n",
              "      <td>-0.274614</td>\n",
              "      <td>-0.620331</td>\n",
              "      <td>-0.619410</td>\n",
              "    </tr>\n",
              "    <tr>\n",
              "      <th>Year</th>\n",
              "      <td>0.223683</td>\n",
              "      <td>1.000000</td>\n",
              "      <td>-0.167601</td>\n",
              "      <td>-0.178405</td>\n",
              "      <td>-0.164099</td>\n",
              "      <td>-0.173012</td>\n",
              "      <td>-0.178792</td>\n",
              "    </tr>\n",
              "    <tr>\n",
              "      <th>North America</th>\n",
              "      <td>-0.611497</td>\n",
              "      <td>-0.167601</td>\n",
              "      <td>1.000000</td>\n",
              "      <td>0.821236</td>\n",
              "      <td>0.414781</td>\n",
              "      <td>0.991173</td>\n",
              "      <td>0.978151</td>\n",
              "    </tr>\n",
              "    <tr>\n",
              "      <th>Europe</th>\n",
              "      <td>-0.560756</td>\n",
              "      <td>-0.178405</td>\n",
              "      <td>0.821236</td>\n",
              "      <td>1.000000</td>\n",
              "      <td>0.453884</td>\n",
              "      <td>0.887883</td>\n",
              "      <td>0.921869</td>\n",
              "    </tr>\n",
              "    <tr>\n",
              "      <th>Japan</th>\n",
              "      <td>-0.274614</td>\n",
              "      <td>-0.164099</td>\n",
              "      <td>0.414781</td>\n",
              "      <td>0.453884</td>\n",
              "      <td>1.000000</td>\n",
              "      <td>0.434921</td>\n",
              "      <td>0.450420</td>\n",
              "    </tr>\n",
              "    <tr>\n",
              "      <th>Rest of World</th>\n",
              "      <td>-0.620331</td>\n",
              "      <td>-0.173012</td>\n",
              "      <td>0.991173</td>\n",
              "      <td>0.887883</td>\n",
              "      <td>0.434921</td>\n",
              "      <td>1.000000</td>\n",
              "      <td>0.996440</td>\n",
              "    </tr>\n",
              "    <tr>\n",
              "      <th>Global</th>\n",
              "      <td>-0.619410</td>\n",
              "      <td>-0.178792</td>\n",
              "      <td>0.978151</td>\n",
              "      <td>0.921869</td>\n",
              "      <td>0.450420</td>\n",
              "      <td>0.996440</td>\n",
              "      <td>1.000000</td>\n",
              "    </tr>\n",
              "  </tbody>\n",
              "</table>\n",
              "</div>\n",
              "      <button class=\"colab-df-convert\" onclick=\"convertToInteractive('df-f85f96cc-1178-4a5f-9dc1-6594d24d12a3')\"\n",
              "              title=\"Convert this dataframe to an interactive table.\"\n",
              "              style=\"display:none;\">\n",
              "        \n",
              "  <svg xmlns=\"http://www.w3.org/2000/svg\" height=\"24px\"viewBox=\"0 0 24 24\"\n",
              "       width=\"24px\">\n",
              "    <path d=\"M0 0h24v24H0V0z\" fill=\"none\"/>\n",
              "    <path d=\"M18.56 5.44l.94 2.06.94-2.06 2.06-.94-2.06-.94-.94-2.06-.94 2.06-2.06.94zm-11 1L8.5 8.5l.94-2.06 2.06-.94-2.06-.94L8.5 2.5l-.94 2.06-2.06.94zm10 10l.94 2.06.94-2.06 2.06-.94-2.06-.94-.94-2.06-.94 2.06-2.06.94z\"/><path d=\"M17.41 7.96l-1.37-1.37c-.4-.4-.92-.59-1.43-.59-.52 0-1.04.2-1.43.59L10.3 9.45l-7.72 7.72c-.78.78-.78 2.05 0 2.83L4 21.41c.39.39.9.59 1.41.59.51 0 1.02-.2 1.41-.59l7.78-7.78 2.81-2.81c.8-.78.8-2.07 0-2.86zM5.41 20L4 18.59l7.72-7.72 1.47 1.35L5.41 20z\"/>\n",
              "  </svg>\n",
              "      </button>\n",
              "      \n",
              "  <style>\n",
              "    .colab-df-container {\n",
              "      display:flex;\n",
              "      flex-wrap:wrap;\n",
              "      gap: 12px;\n",
              "    }\n",
              "\n",
              "    .colab-df-convert {\n",
              "      background-color: #E8F0FE;\n",
              "      border: none;\n",
              "      border-radius: 50%;\n",
              "      cursor: pointer;\n",
              "      display: none;\n",
              "      fill: #1967D2;\n",
              "      height: 32px;\n",
              "      padding: 0 0 0 0;\n",
              "      width: 32px;\n",
              "    }\n",
              "\n",
              "    .colab-df-convert:hover {\n",
              "      background-color: #E2EBFA;\n",
              "      box-shadow: 0px 1px 2px rgba(60, 64, 67, 0.3), 0px 1px 3px 1px rgba(60, 64, 67, 0.15);\n",
              "      fill: #174EA6;\n",
              "    }\n",
              "\n",
              "    [theme=dark] .colab-df-convert {\n",
              "      background-color: #3B4455;\n",
              "      fill: #D2E3FC;\n",
              "    }\n",
              "\n",
              "    [theme=dark] .colab-df-convert:hover {\n",
              "      background-color: #434B5C;\n",
              "      box-shadow: 0px 1px 3px 1px rgba(0, 0, 0, 0.15);\n",
              "      filter: drop-shadow(0px 1px 2px rgba(0, 0, 0, 0.3));\n",
              "      fill: #FFFFFF;\n",
              "    }\n",
              "  </style>\n",
              "\n",
              "      <script>\n",
              "        const buttonEl =\n",
              "          document.querySelector('#df-f85f96cc-1178-4a5f-9dc1-6594d24d12a3 button.colab-df-convert');\n",
              "        buttonEl.style.display =\n",
              "          google.colab.kernel.accessAllowed ? 'block' : 'none';\n",
              "\n",
              "        async function convertToInteractive(key) {\n",
              "          const element = document.querySelector('#df-f85f96cc-1178-4a5f-9dc1-6594d24d12a3');\n",
              "          const dataTable =\n",
              "            await google.colab.kernel.invokeFunction('convertToInteractive',\n",
              "                                                     [key], {});\n",
              "          if (!dataTable) return;\n",
              "\n",
              "          const docLinkHtml = 'Like what you see? Visit the ' +\n",
              "            '<a target=\"_blank\" href=https://colab.research.google.com/notebooks/data_table.ipynb>data table notebook</a>'\n",
              "            + ' to learn more about interactive tables.';\n",
              "          element.innerHTML = '';\n",
              "          dataTable['output_type'] = 'display_data';\n",
              "          await google.colab.output.renderOutput(dataTable, element);\n",
              "          const docLink = document.createElement('div');\n",
              "          docLink.innerHTML = docLinkHtml;\n",
              "          element.appendChild(docLink);\n",
              "        }\n",
              "      </script>\n",
              "    </div>\n",
              "  </div>\n",
              "  "
            ]
          },
          "metadata": {},
          "execution_count": 87
        }
      ]
    },
    {
      "cell_type": "code",
      "source": [
        "# Mencari korelasi antara tahun rilis dan penjualan secara global\n",
        "df[\"Year\"].corr(df[\"Global\"])\n",
        "df.plot(kind=\"scatter\", x=\"Year\", y=\"Global\", color=\"pink\")"
      ],
      "metadata": {
        "colab": {
          "base_uri": "https://localhost:8080/",
          "height": 296
        },
        "id": "lQRmNUaJ272M",
        "outputId": "4e809d8a-4ec5-4a62-9fcb-9f6d66936634"
      },
      "execution_count": null,
      "outputs": [
        {
          "output_type": "execute_result",
          "data": {
            "text/plain": [
              "<matplotlib.axes._subplots.AxesSubplot at 0x7f9326dc2310>"
            ]
          },
          "metadata": {},
          "execution_count": 95
        },
        {
          "output_type": "display_data",
          "data": {
            "text/plain": [
              "<Figure size 432x288 with 1 Axes>"
            ],
            "image/png": "[encoded data removed]"
          },
          "metadata": {
            "needs_background": "light"
          }
        }
      ]
    },
    {
      "cell_type": "code",
      "source": [
        "df[\"Year\"].corr(df[\"Global\"])"
      ],
      "metadata": {
        "colab": {
          "base_uri": "https://localhost:8080/"
        },
        "id": "1caF99TZNlzW",
        "outputId": "cbd62e2a-d658-47e1-da90-3e8c8ae6823d"
      },
      "execution_count": null,
      "outputs": [
        {
          "output_type": "execute_result",
          "data": {
            "text/plain": [
              "-0.17879159162810085"
            ]
          },
          "metadata": {},
          "execution_count": 15
        }
      ]
    },
    {
      "cell_type": "markdown",
      "source": [
        "Tahun rilis dan penjualan secara global tidak berkorelasi karena koefisien korelasi antara dua kolom tersebut mendekati 0."
      ],
      "metadata": {
        "id": "YCvFSwFR3jsT"
      }
    },
    {
      "cell_type": "code",
      "source": [
        "# Mencari korelasi antara penjualan di Amerika Utara dan penjualan di Eropa\n",
        "df[\"North America\"].corr(df[\"Europe\"])\n",
        "df.plot(kind=\"scatter\", x=\"North America\", y=\"Europe\", color='pink')"
      ],
      "metadata": {
        "colab": {
          "base_uri": "https://localhost:8080/",
          "height": 296
        },
        "id": "OXj3l5wp3STY",
        "outputId": "322e1ce4-b5f3-4d7a-f574-eb93a25d31f7"
      },
      "execution_count": null,
      "outputs": [
        {
          "output_type": "execute_result",
          "data": {
            "text/plain": [
              "<matplotlib.axes._subplots.AxesSubplot at 0x7f9326e4e2d0>"
            ]
          },
          "metadata": {},
          "execution_count": 96
        },
        {
          "output_type": "display_data",
          "data": {
            "text/plain": [
              "<Figure size 432x288 with 1 Axes>"
            ],
            "image/png": "[encoded data removed]"
          },
          "metadata": {
            "needs_background": "light"
          }
        }
      ]
    },
    {
      "cell_type": "code",
      "source": [
        "df[\"North America\"].corr(df[\"Europe\"])"
      ],
      "metadata": {
        "colab": {
          "base_uri": "https://localhost:8080/"
        },
        "id": "WHt3e16hOH6Q",
        "outputId": "57260d25-8357-4a6a-cdb6-e52f3ef5b3d4"
      },
      "execution_count": null,
      "outputs": [
        {
          "output_type": "execute_result",
          "data": {
            "text/plain": [
              "0.8212360120586626"
            ]
          },
          "metadata": {},
          "execution_count": 16
        }
      ]
    },
    {
      "cell_type": "markdown",
      "source": [
        "Penjualan di Amerika Utara dan penjualan di Eropa berbanding lurus karena koefisien korelasi antara dua kolom tersebut mendekati 1."
      ],
      "metadata": {
        "id": "Sblm42bd4HBe"
      }
    },
    {
      "cell_type": "code",
      "source": [
        "# Mencari korelasi antara penjualan di Amerika Utara dan penjualan di Jepang\n",
        "df[\"North America\"].corr(df[\"Japan\"])\n",
        "df.plot(kind=\"scatter\", x=\"North America\", y=\"Japan\", color='pink')"
      ],
      "metadata": {
        "colab": {
          "base_uri": "https://localhost:8080/",
          "height": 296
        },
        "id": "p3z9-gls4Q44",
        "outputId": "226f19cc-328c-4e76-bcd9-e7f4b5dcb631"
      },
      "execution_count": null,
      "outputs": [
        {
          "output_type": "execute_result",
          "data": {
            "text/plain": [
              "<matplotlib.axes._subplots.AxesSubplot at 0x7f9326c32450>"
            ]
          },
          "metadata": {},
          "execution_count": 97
        },
        {
          "output_type": "display_data",
          "data": {
            "text/plain": [
              "<Figure size 432x288 with 1 Axes>"
            ],
            "image/png": "[encoded data removed]"
          },
          "metadata": {
            "needs_background": "light"
          }
        }
      ]
    },
    {
      "cell_type": "code",
      "source": [
        "df[\"North America\"].corr(df[\"Japan\"])"
      ],
      "metadata": {
        "colab": {
          "base_uri": "https://localhost:8080/"
        },
        "id": "9BHj3hi-O-kp",
        "outputId": "2af7120a-7865-46c8-ba43-cacc7c41be05"
      },
      "execution_count": null,
      "outputs": [
        {
          "output_type": "execute_result",
          "data": {
            "text/plain": [
              "0.4147812454924461"
            ]
          },
          "metadata": {},
          "execution_count": 17
        }
      ]
    },
    {
      "cell_type": "markdown",
      "source": [
        "Penjualan di Amerika Utara dan penjualan di Jepang tidak berkorelasi karena koefisien korelasi antara dua kolom tersebut mendekati 0."
      ],
      "metadata": {
        "id": "0T5YlDxB5-ow"
      }
    },
    {
      "cell_type": "code",
      "source": [
        "# Mencari korelasi antara penjualan di Jepang dan penjualan di Eropa\n",
        "\n",
        "df.plot(kind=\"scatter\", x=\"Japan\", y=\"Europe\", color='pink')"
      ],
      "metadata": {
        "colab": {
          "base_uri": "https://localhost:8080/",
          "height": 296
        },
        "id": "DVkWBS-c5ZfZ",
        "outputId": "ffcfafec-092b-4109-b263-eac738637afa"
      },
      "execution_count": null,
      "outputs": [
        {
          "output_type": "execute_result",
          "data": {
            "text/plain": [
              "<matplotlib.axes._subplots.AxesSubplot at 0x7f9326e26bd0>"
            ]
          },
          "metadata": {},
          "execution_count": 98
        },
        {
          "output_type": "display_data",
          "data": {
            "text/plain": [
              "<Figure size 432x288 with 1 Axes>"
            ],
            "image/png": "[encoded data removed]"
          },
          "metadata": {
            "needs_background": "light"
          }
        }
      ]
    },
    {
      "cell_type": "code",
      "source": [
        "df[\"Japan\"].corr(df[\"Europe\"])"
      ],
      "metadata": {
        "colab": {
          "base_uri": "https://localhost:8080/"
        },
        "id": "tKv71OsjPSWC",
        "outputId": "4fea556a-115b-44e6-8b3c-55347575da9e"
      },
      "execution_count": null,
      "outputs": [
        {
          "output_type": "execute_result",
          "data": {
            "text/plain": [
              "0.4538838726268431"
            ]
          },
          "metadata": {},
          "execution_count": 18
        }
      ]
    },
    {
      "cell_type": "markdown",
      "source": [
        "Penjualan di Jepang dan penjualan di Eropa tidak berkorelasi karena koefisien korelasi antara dua kolom tersebut mendekati 0."
      ],
      "metadata": {
        "id": "NcF5M60a6HeO"
      }
    },
    {
      "cell_type": "code",
      "source": [
        "# Mencari korelasi antara penjualan secara global dan penjualan di negara lain\n",
        "df[\"Global\"].corr(df[\"Rest of World\"])\n",
        "df.plot(kind=\"scatter\", x=\"Global\", y=\"Rest of World\", color='pink')"
      ],
      "metadata": {
        "colab": {
          "base_uri": "https://localhost:8080/",
          "height": 296
        },
        "id": "aVReHs4c5fTs",
        "outputId": "cb46997f-0a5d-42e9-f3fe-b23da60e772c"
      },
      "execution_count": null,
      "outputs": [
        {
          "output_type": "execute_result",
          "data": {
            "text/plain": [
              "<matplotlib.axes._subplots.AxesSubplot at 0x7f9326c179d0>"
            ]
          },
          "metadata": {},
          "execution_count": 99
        },
        {
          "output_type": "display_data",
          "data": {
            "text/plain": [
              "<Figure size 432x288 with 1 Axes>"
            ],
            "image/png": "[encoded data removed]"
          },
          "metadata": {
            "needs_background": "light"
          }
        }
      ]
    },
    {
      "cell_type": "code",
      "source": [
        "df[\"Global\"].corr(df[\"Rest of World\"])"
      ],
      "metadata": {
        "id": "rJgqieb5P45j",
        "outputId": "76cf2ff1-07ee-49c9-d517-d16775270785",
        "colab": {
          "base_uri": "https://localhost:8080/"
        }
      },
      "execution_count": null,
      "outputs": [
        {
          "output_type": "execute_result",
          "data": {
            "text/plain": [
              "0.9964395383552964"
            ]
          },
          "metadata": {},
          "execution_count": 19
        }
      ]
    },
    {
      "cell_type": "markdown",
      "source": [
        "Penjualan secara global dan penjualan di negara lain berbanding lurus karena koefisien korelasi antara dua kolom tersebut mendekati 1."
      ],
      "metadata": {
        "id": "flX7pKhC7cX7"
      }
    }
  ]
}